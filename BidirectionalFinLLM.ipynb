{
  "nbformat": 4,
  "nbformat_minor": 0,
  "metadata": {
    "colab": {
      "provenance": [],
      "authorship_tag": "ABX9TyOszqnWkmBW0+QOJir3wIIu"
    },
    "kernelspec": {
      "name": "python3",
      "display_name": "Python 3"
    },
    "language_info": {
      "name": "python"
    }
  },
  "cells": [
    {
      "cell_type": "code",
      "execution_count": 3,
      "metadata": {
        "id": "N8g2tVFC6go7"
      },
      "outputs": [],
      "source": [
        "import pandas as pd\n",
        "import torch\n",
        "import numpy as np\n",
        "import torch.nn as nn\n",
        "import torch.nn.functional as F\n",
        "import torch.optim as optim\n",
        "import time\n",
        "import tiktoken\n",
        "\n",
        "#special token ids\n",
        "enc = tiktoken.get_encoding('cl100k_base')\n",
        "SOS_TOKEN_ID = enc.encode(\"<|startoftext|>\", allowed_special=\"all\")[0]\n",
        "EOS_TOKEN_ID = enc.encode(\"<|endoftext|>\", allowed_special=\"all\")[0]\n",
        "PAD_TOKEN_ID = 0\n",
        "\n",
        "# HP\n",
        "batch_size = 32\n",
        "block_size = 32\n",
        "device = 'cuda' if torch.cuda.is_available() else 'cpu'\n",
        "vocab_size = 100_000\n",
        "n_embed = 256\n",
        "n_layers = 6\n",
        "learning_rate = 1e-3\n",
        "max_iters = 10000\n",
        "eval_interval = 100\n"
      ]
    }
  ]
}