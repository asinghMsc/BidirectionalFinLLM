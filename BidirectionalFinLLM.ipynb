{
  "nbformat": 4,
  "nbformat_minor": 0,
  "metadata": {
    "colab": {
      "provenance": [],
      "gpuType": "T4",
      "authorship_tag": "ABX9TyOcHw34bVNlcZ/53+OQ6EMd",
      "include_colab_link": true
    },
    "kernelspec": {
      "name": "python3",
      "display_name": "Python 3"
    },
    "language_info": {
      "name": "python"
    },
    "accelerator": "GPU"
  },
  "cells": [
    {
      "cell_type": "markdown",
      "metadata": {
        "id": "view-in-github",
        "colab_type": "text"
      },
      "source": [
        "<a href=\"https://colab.research.google.com/github/asinghMsc/BidirectionalFinLLM/blob/main/BidirectionalFinLLM.ipynb\" target=\"_parent\"><img src=\"https://colab.research.google.com/assets/colab-badge.svg\" alt=\"Open In Colab\"/></a>"
      ]
    },
    {
      "cell_type": "code",
      "execution_count": 1,
      "metadata": {
        "id": "N8g2tVFC6go7"
      },
      "outputs": [],
      "source": [
        "import pandas as pd\n",
        "import torch\n",
        "import numpy as np\n",
        "import torch.nn as nn\n",
        "import torch.nn.functional as F\n",
        "import torch.optim as optim\n",
        "import time\n",
        "import tiktoken\n",
        "\n",
        "#special token ids\n",
        "enc = tiktoken.get_encoding('cl100k_base')\n",
        "SOS_TOKEN_ID = enc.encode(\"<|startoftext|>\", allowed_special=\"all\")[0]\n",
        "EOS_TOKEN_ID = enc.encode(\"<|endoftext|>\", allowed_special=\"all\")[0]\n",
        "PAD_TOKEN_ID = 0\n",
        "\n",
        "# HP\n",
        "batch_size = 32\n",
        "block_size = 32\n",
        "device = 'cuda' if torch.cuda.is_available() else 'cpu'\n",
        "vocab_size = 100_000\n",
        "n_embed = 256\n",
        "n_layers = 6\n",
        "learning_rate = 1e-3\n",
        "max_iters = 10000\n",
        "eval_interval = 100\n"
      ]
    },
    {
      "cell_type": "code",
      "source": [
        "df = pd.read_csv(\"/content/sample_data/financial_narration_data.csv\")\n",
        "\n",
        "# functions prep pairs each way,  process df into tokenised id tuples\n",
        "\n",
        "#json to str\n",
        "json_to_str_dataset = []\n",
        "for _, row in df.iterrows():\n",
        "  encoder_input_ids = enc.encode(row['prompt'])\n",
        "  decoder_target_ids = enc.encode(row['target']) + [EOS_TOKEN_ID]\n",
        "  decoder_input_ids = [SOS_TOKEN_ID] + decoder_target_ids[:-1]\n",
        "  json_to_str_dataset.append((encoder_input_ids, decoder_input_ids, decoder_target_ids))\n",
        "\n",
        "#str to json\n",
        "str_to_json_dataset = []\n",
        "for _, row in df.iterrows():\n",
        "  encoder_input_ids = enc.encode(row['target'])\n",
        "  decoder_target_ids = enc.encode(row['prompt']) + [EOS_TOKEN_ID]\n",
        "  decoder_input_ids = [SOS_TOKEN_ID] + decoder_target_ids[:-1]\n",
        "  json_to_str_dataset.append((encoder_input_ids, decoder_input_ids, decoder_target_ids))\n",
        "\n",
        "#split\n",
        "n_j2s = int(0.9 * len(json_to_str_dataset))\n",
        "train_json_to_str = json_to_str_dataset[:n_j2s]\n",
        "val_json_to_str = json_to_str_dataset[n_j2s:]\n",
        "\n",
        "n_s2j = int(0.9 * len(str_to_json_dataset))\n",
        "train_str_to_json = str_to_json_dataset[:n_s2j]\n",
        "val_str_to_json = str_to_json_dataset[n_j2s:]\n"
      ],
      "metadata": {
        "id": "CPVJVQirKKIL"
      },
      "execution_count": 2,
      "outputs": []
    },
    {
      "cell_type": "code",
      "source": [
        "# general attention head\n",
        "class AttentionHead(nn.Module):\n",
        "  def __init__(self, n_embed, head_size):\n",
        "    super().__init__()\n",
        "    self.key = nn.Linear(n_embed, head_size, block_size, bias=False)\n",
        "    self.query = nn.Linear(n_embed, head_size, block_size, bias=False)\n",
        "    self.value = nn.Linear(n_embed, head_size, block_size, bias=False)\n",
        "    self.register_buffer(\"tril\", torch.tril(torch.ones(block_size, block_size)))\n",
        "    self.dropout = nn.Dropout(0.1)\n",
        "    self.head_size = head_size\n",
        "\n",
        "  # takes seperateq q_input, k_input and v_input\n",
        "  def forward(self, query_input, key_input, value_input, mask=None):\n",
        "    q = self.query(query_input)\n",
        "    k = self.key(key_input)\n",
        "    v = self.value(value_input)\n",
        "\n",
        "    wei = q @ k.transpose(-2. -1) / self.head_size**0.5\n",
        "\n",
        "    if mask is not None:\n",
        "      wei = wei.masked_fill(mask == 0, float('-inf'))\n",
        "\n",
        "    wei = F.softmax(wei, dim=-1)\n",
        "    wei = self.dropout(wei)\n",
        "    out = wei @ v\n",
        "    return out\n",
        "\n",
        "# multi-head attention, for selfattention with a casual flag\n",
        "class MultiHeadAttention(nn.Module):\n",
        "  def __init__(self, n_heads,n_embed, head_size, block_size, is_casual=True):\n",
        "    super().__init__()\n",
        "    self.heads = nn.ModuleList([\n",
        "        AttentionHead(n_embed, head_size) for _ in range(n_heads)\n",
        "    ])\n",
        "    self.proj = nn.Linear(n_heads * head_size, n_embed)\n",
        "    self.dropout = nn.Dropout(0.1)\n",
        "    self.is_casual = is_casual\n",
        "    if self.is_casual:\n",
        "      self.register_buffer(\"tril\", torch.tril(torch.ones(block_size, block_size)))\n",
        "\n",
        "  def forward(self, x, mask=None):\n",
        "    B, T, C = x.shape\n",
        "    local_mask = mask #external\n",
        "\n",
        "    if self.is_casual:\n",
        "      casual_mask = self.tril[:T, :T].view(1, T, T)\n",
        "      if local_mask is None:\n",
        "        local_mask = casual_mask\n",
        "      else:\n",
        "        local_mask = local_mask * casual_mask\n",
        "\n",
        "    out = torch.cat([h(x, x, x, mask=local_mask) for h in self.heads], dim=-1)\n",
        "    out = self.dropout(self.proj(out))\n",
        "    return out\n",
        "\n",
        "# MHCA for encoder-decoder attention\n",
        "  class MultiHeadCrossAttention(nn.Module):\n",
        "    def __init__(self, n_heads, n_embed, head_size):\n",
        "      super().__init__()\n",
        "      self.heads = nn.ModuleList([\n",
        "          AttentionHead(n_embed, head_size) for _ in range(n_heads)\n",
        "      ])\n",
        "      self.proj = nn.Linear(n_heads * head_size, n_embed)\n",
        "      self.dropout = nn.Dropout(0.1)\n",
        "\n",
        "    def forward(self, query_input, key_value_input, mask=None):\n",
        "      out = torch.cat([h(query_input, key_value_input, key_value_input, mask=mask) for h in self.heads], dim=-1)\n",
        "      out = self.dropout(self.proj(out))\n",
        "      return out"
      ],
      "metadata": {
        "id": "8DgITDPwRQlo"
      },
      "execution_count": 3,
      "outputs": []
    },
    {
      "cell_type": "code",
      "source": [
        "class FeedForward(nn.Module):\n",
        "  def __init__(self, n_embed):\n",
        "    super().__init__()\n",
        "    self.net = nn.Sequential(\n",
        "        nn.Linear(n_embed, 4 * n_embed),\n",
        "        nn.ReLU(),\n",
        "        nn.Linear(4 * n_embed, n_embed),\n",
        "        nn.Dropout(0.1)\n",
        "    )\n",
        "\n",
        "  def forward(self, x):\n",
        "      return self.net(x)"
      ],
      "metadata": {
        "id": "4ssTntZrqhpi"
      },
      "execution_count": 4,
      "outputs": []
    },
    {
      "cell_type": "code",
      "source": [
        "class EncoderBlock(nn.Module):\n",
        "  def __init__(self, n_embed, n_heads, block_size):\n",
        "    super().__init__()\n",
        "    head_size = n_embed // n_heads\n",
        "    self.ln1 = nn.LayerNorm(n_embed)\n",
        "    self.ln2 = nn.LayerNorm(n_embed)\n",
        "    self.sa = MultiHeadAttention(n_heads, n_embed, head_size, block_size, is_casual=False)\n",
        "    self.ffwd = FeedForward(n_embed)\n",
        "\n",
        "\n",
        "  def forward(selv, x, mask=None):\n",
        "    x = x + self.sa(self.ln1(x), mask=mask)\n",
        "    x = x + self.ffwd(self.ln2(x))\n",
        "    return x\n",
        "\n",
        "class DecoderBlock(nn.Module):\n",
        "  def __init__(self, n_embed, n_heads, block_size):\n",
        "    super().__init__()\n",
        "    head_size = n_embed // n_heads\n",
        "    self.ln1 = nn.LayerNorm(n_embed)\n",
        "    self.ln2 = nn.LayerNorm(n_embed)\n",
        "    self.ln3 = nn.LayerNorm(n_embed)\n",
        "\n",
        "    self.masked_sa = MultiHeadAttention(n_heads, n_embed, head_size, block_size, is_casual=True)\n",
        "    self.cross_sa = MultiHeadCrossAttention(n_heads, n_embed, head_size)\n",
        "    self.ffwd = FeedForward(n_embed)\n",
        "\n",
        "  def forward(self, x, encoder_output, padding_mask=None):\n",
        "    x = x + self.masked_sa(self.ln1(x), mask=padding_mask)\n",
        "\n",
        "    x = x + self.cross_sa(self.ln2(x), encoder_output, mask=None)\n",
        "\n",
        "    x = x + self.ffwd(self.ln3(x))\n",
        "    return x\n",
        "\n"
      ],
      "metadata": {
        "id": "jNqIs7slq8r3"
      },
      "execution_count": 6,
      "outputs": []
    },
    {
      "cell_type": "code",
      "source": [
        "# remember dropout for embeddings\n",
        "class Encoder(nn.Module):\n",
        "  def __init__(self, vocab_size, n_embed, block_size, n_heads, n_layers):\n",
        "    super().__init__()\n",
        "    self.token_embedding_table = nn.Embedding(vocab_size, n_embed)\n",
        "    self.position_embedding_table = nn.Embedding(block_size, n_embed)\n",
        "    self.blocks = nn.Sequential(*[\n",
        "        EncoderBlock(n_embed, n_heads, block_size) for _ in range(n_layers)\n",
        "    ])\n",
        "    self.ln_f = nn.LayerNorm(n_embed)\n",
        "    self.dropout = nn.Dropout(0.1)\n",
        "    self.block_size = block_size\n",
        "\n",
        "  def forward(self, idx, padding_mask=None):\n",
        "    B, T = idx.shape\n",
        "    tok_emb = self.token_embedding_table(idx)\n",
        "    pos_emb = self.position_embedding_table(torch.arrange(T, device=idx.device))\n",
        "    x =self.dropout(tok_emb + pos_emb)\n",
        "\n",
        "    for block in self.blocks:\n",
        "        x = block(x, mask=padding_mask)\n",
        "\n",
        "    x = self.ln_f(x)\n",
        "    return x\n"
      ],
      "metadata": {
        "id": "EdksRDbMuMA2"
      },
      "execution_count": 7,
      "outputs": []
    },
    {
      "cell_type": "code",
      "source": [],
      "metadata": {
        "id": "vcYiGn4Ovn9w"
      },
      "execution_count": null,
      "outputs": []
    }
  ]
}