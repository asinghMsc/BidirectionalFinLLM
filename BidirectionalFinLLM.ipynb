{
  "nbformat": 4,
  "nbformat_minor": 0,
  "metadata": {
    "colab": {
      "provenance": [],
      "authorship_tag": "ABX9TyMcKgHXpe64wVmbW0w1A0D5"
    },
    "kernelspec": {
      "name": "python3",
      "display_name": "Python 3"
    },
    "language_info": {
      "name": "python"
    }
  },
  "cells": [
    {
      "cell_type": "code",
      "execution_count": 3,
      "metadata": {
        "id": "N8g2tVFC6go7"
      },
      "outputs": [],
      "source": [
        "import pandas as pd\n",
        "import torch\n",
        "import numpy as np\n",
        "import torch.nn as nn\n",
        "import torch.nn.functional as F\n",
        "import torch.optim as optim\n",
        "import time\n",
        "import tiktoken\n",
        "\n",
        "#special token ids\n",
        "enc = tiktoken.get_encoding('cl100k_base')\n",
        "SOS_TOKEN_ID = enc.encode(\"<|startoftext|>\", allowed_special=\"all\")[0]\n",
        "EOS_TOKEN_ID = enc.encode(\"<|endoftext|>\", allowed_special=\"all\")[0]\n",
        "PAD_TOKEN_ID = 0\n",
        "\n",
        "# HP\n",
        "batch_size = 32\n",
        "block_size = 32\n",
        "device = 'cuda' if torch.cuda.is_available() else 'cpu'\n",
        "vocab_size = 100_000\n",
        "n_embed = 256\n",
        "n_layers = 6\n",
        "learning_rate = 1e-3\n",
        "max_iters = 10000\n",
        "eval_interval = 100\n"
      ]
    },
    {
      "cell_type": "code",
      "source": [
        "df = pd.read_csv(\"/content/sample_data/financial_narration_data.csv\")\n",
        "\n",
        "# functions prep pairs each way,  process df into tokenised id tuples\n",
        "\n",
        "#json to str\n",
        "json_to_str_dataset = []\n",
        "for _, row in df.iterrows():\n",
        "  encoder_input_ids = enc.encode(row['prompt'])\n",
        "  decoder_target_ids = enc.encode(row['target']) + [EOS_TOKEN_ID]\n",
        "  decoder_input_ids = [SOS_TOKEN_ID] + decoder_target_ids[:-1]\n",
        "  json_to_str_dataset.append((encoder_input_ids, decoder_input_ids, decoder_target_ids))\n",
        "\n",
        "#str to json\n",
        "str_to_json_dataset = []\n",
        "for _, row in df.iterrows():\n",
        "  encoder_input_ids = enc.encode(row['target'])\n",
        "  decoder_target_ids = enc.encode(row['prompt']) + [EOS_TOKEN_ID]\n",
        "  decoder_input_ids = [SOS_TOKEN_ID] + decoder_target_ids[:-1]\n",
        "  json_to_str_dataset.append((encoder_input_ids, decoder_input_ids, decoder_target_ids))\n",
        "\n",
        "#split\n",
        "n_j2s = int(0.9 * len(json_to_str_dataset))\n",
        "train_json_to_str = json_to_str_dataset[:n_j2s]\n",
        "val_json_to_str = json_to_str_dataset[n_j2s:]\n",
        "\n",
        "n_s2j = int(0.9 * len(str_to_json_dataset))\n",
        "train_str_to_json = str_to_json_dataset[:n_s2j]\n",
        "val_str_to_json = str_to_json_dataset[n_j2s:]\n"
      ],
      "metadata": {
        "id": "CPVJVQirKKIL"
      },
      "execution_count": 4,
      "outputs": []
    }
  ]
}